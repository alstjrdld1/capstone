{
 "cells": [
  {
   "cell_type": "code",
   "execution_count": 5,
   "metadata": {},
   "outputs": [
    {
     "name": "stdout",
     "output_type": "stream",
     "text": [
      "Sending...\n"
     ]
    }
   ],
   "source": [
    "import socket\n",
    "import sys \n",
    "\n",
    "buf = 1024\n",
    "address = ('192.168.50.1', 8080)\n",
    "\n",
    "try:\n",
    "    socket = socket.socket(socket.AF_INET, socket.SOCK_DGRAM)\n",
    "    print('Client socket initialized')\n",
    "    socket.setblocking(0)\n",
    "    socket.timeout(15)\n",
    "except:\n",
    "    print(\"Failed to create socket\")\n",
    "    sys.exit()\n",
    "\n",
    "f= open('./frames/1.jpg', 'rb')\n",
    "print('sending...')\n",
    "read = f.read(8096)\n",
    "while(read):\n",
    "    print('Sending...')\n",
    "    socket.send(read)\n",
    "    read f.read(8096)\n",
    "f.close()\n",
    "\n",
    "\n",
    "# while True:\n",
    "#     file_name = open('./frames/1.jpg', \"rb\")\n",
    "#     data = file_name.read(buf)\n",
    "#     if(socket.sendto(data, address)):\n",
    "#         print(\"Sending...\")\n",
    "#     else:\n",
    "#         print(\"fail\")\n",
    "#     file_name.close()\n",
    "\n",
    "socket.close()\n"
   ]
  },
  {
   "cell_type": "code",
   "execution_count": null,
   "metadata": {},
   "outputs": [],
   "source": []
  }
 ],
 "metadata": {
  "kernelspec": {
   "display_name": "Python 3",
   "language": "python",
   "name": "python3"
  },
  "language_info": {
   "codemirror_mode": {
    "name": "ipython",
    "version": 3
   },
   "file_extension": ".py",
   "mimetype": "text/x-python",
   "name": "python",
   "nbconvert_exporter": "python",
   "pygments_lexer": "ipython3",
   "version": "3.8.5"
  }
 },
 "nbformat": 4,
 "nbformat_minor": 4
}
